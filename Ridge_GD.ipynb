{
  "nbformat": 4,
  "nbformat_minor": 0,
  "metadata": {
    "colab": {
      "provenance": [],
      "authorship_tag": "ABX9TyPuWHtXg+cfBMRuWj+n2+DI",
      "include_colab_link": true
    },
    "kernelspec": {
      "name": "python3",
      "display_name": "Python 3"
    },
    "language_info": {
      "name": "python"
    }
  },
  "cells": [
    {
      "cell_type": "markdown",
      "metadata": {
        "id": "view-in-github",
        "colab_type": "text"
      },
      "source": [
        "<a href=\"https://colab.research.google.com/github/Liza-IITP/MachineLearning/blob/main/Ridge_GD.ipynb\" target=\"_parent\"><img src=\"https://colab.research.google.com/assets/colab-badge.svg\" alt=\"Open In Colab\"/></a>"
      ]
    },
    {
      "cell_type": "code",
      "execution_count": 38,
      "metadata": {
        "id": "DMBrlkW2MNXf"
      },
      "outputs": [],
      "source": [
        "from sklearn.datasets import load_diabetes\n",
        "from sklearn.metrics import r2_score\n",
        "import numpy as np"
      ]
    },
    {
      "cell_type": "code",
      "source": [
        "X,y = load_diabetes(return_X_y=True)\n",
        "from sklearn.model_selection import train_test_split\n",
        "X_train,X_test,y_train,y_test = train_test_split(X,y,test_size=0.2,random_state=2)"
      ],
      "metadata": {
        "id": "4l_sfVMrManR"
      },
      "execution_count": 39,
      "outputs": []
    },
    {
      "cell_type": "code",
      "source": [
        "from sklearn.linear_model import SGDRegressor\n",
        "reg = SGDRegressor(max_iter=1000,eta0=0.1,learning_rate='constant',penalty='l2',alpha=0.001)\n",
        "reg.fit(X_train,y_train)\n",
        "y_pred = reg.predict(X_test)\n",
        "print(reg.coef_)\n",
        "print(reg.intercept_)\n",
        "print(r2_score(y_test,y_pred))"
      ],
      "metadata": {
        "colab": {
          "base_uri": "https://localhost:8080/"
        },
        "id": "n-snw-bHM896",
        "outputId": "405ea87a-3df9-43c1-d96d-dc1913de01b2"
      },
      "execution_count": 40,
      "outputs": [
        {
          "output_type": "stream",
          "name": "stdout",
          "text": [
            "[  31.71927119 -113.34546155  393.90851319  266.22782251   -9.16341664\n",
            "  -65.71901674 -167.71173451  105.14760294  358.03512292  103.05626994]\n",
            "[137.33313083]\n",
            "0.4040329417828833\n"
          ]
        }
      ]
    },
    {
      "cell_type": "code",
      "source": [
        "from sklearn.datasets import load_diabetes\n",
        "from sklearn.metrics import r2_score\n",
        "import numpy as np\n",
        "X,y = load_diabetes(return_X_y=True)\n",
        "from sklearn.model_selection import train_test_split\n",
        "X_train,X_test,y_train,y_test = train_test_split(X,y,test_size=0.2,random_state=4)\n",
        "from sklearn.linear_model import SGDRegressor\n",
        "reg = SGDRegressor(penalty='l2',max_iter=500,eta0=0.1,learning_rate='constant',alpha=0.001)\n",
        "reg.fit(X_train,y_train)\n",
        "\n",
        "y_pred = reg.predict(X_test)\n",
        "print(\"R2 score\",r2_score(y_test,y_pred))\n",
        "print(reg.coef_)\n",
        "print(reg.intercept_)"
      ],
      "metadata": {
        "id": "4ncV8uqVNq_1",
        "colab": {
          "base_uri": "https://localhost:8080/"
        },
        "outputId": "0bfd9437-a6aa-4ab7-a320-bd7c51cf2e62"
      },
      "execution_count": 41,
      "outputs": [
        {
          "output_type": "stream",
          "name": "stdout",
          "text": [
            "R2 score 0.4105100362841061\n",
            "[  47.06730468 -140.09378282  356.66704044  260.80177801   -1.55527886\n",
            "  -53.09596388 -166.4370528   137.19884027  319.70305651  104.1610178 ]\n",
            "[140.10030012]\n"
          ]
        }
      ]
    },
    {
      "cell_type": "code",
      "source": [
        "from sklearn.linear_model import Ridge\n",
        "\n",
        "reg = Ridge(alpha=0.001, max_iter=500,solver='sparse_cg')\n",
        "reg.fit(X_train,y_train)\n",
        "\n",
        "y_pred = reg.predict(X_test)\n",
        "print(\"R2 score\",r2_score(y_test,y_pred))\n",
        "print(reg.coef_)\n",
        "print(reg.intercept_)"
      ],
      "metadata": {
        "colab": {
          "base_uri": "https://localhost:8080/"
        },
        "id": "prAX9AavR1eE",
        "outputId": "d27cd2ca-d376-4abd-994a-ef001fd0ca7e"
      },
      "execution_count": 42,
      "outputs": [
        {
          "output_type": "stream",
          "name": "stdout",
          "text": [
            "R2 score 0.46250101619914563\n",
            "[  34.52192544 -290.84084076  482.40181344  368.0678662  -852.44873179\n",
            "  501.59160336  180.11115788  270.76333979  759.73534372   37.4913546 ]\n",
            "151.10198517439466\n"
          ]
        }
      ]
    },
    {
      "cell_type": "code",
      "source": [
        "class MYGDR :\n",
        "  def __init__(self,epochs,learning_rate,alpha):\n",
        "    self.epochs = epochs\n",
        "    self.learning_rate = learning_rate\n",
        "    self.alpha = alpha\n",
        "    self.coef_ = None\n",
        "    self.intercept_ = None\n",
        "  def fit(self,X_train,y_train):\n",
        "      self.coef_ = np.ones(X_train.shape[1])\n",
        "      self.intercept_ = 0\n",
        "      thetha = np.insert(self.coef_,0,self.intercept_)\n",
        "\n",
        "      X_train = np.insert(X_train,0,1,axis=1)\n",
        "\n",
        "      for i in range(self.epochs):\n",
        "          thetha_der = np.dot(X_train.T,X_train).dot(thetha) - np.dot(X_train.T,y_train) + self.alpha*thetha\n",
        "          thetha = thetha - self.learning_rate*thetha_der\n",
        "\n",
        "      self.coef_ = thetha[1:]\n",
        "      self.intercept_ = thetha[0]\n",
        "\n",
        "  def predict(self,X_test):\n",
        "        return np.dot(X_test,self.coef_) + self.intercept_\n"
      ],
      "metadata": {
        "id": "dXX5Ke-lR2vA"
      },
      "execution_count": 43,
      "outputs": []
    },
    {
      "cell_type": "code",
      "source": [
        "reg = MYGDR(epochs=500,alpha=0.001,learning_rate=0.005)\n",
        "reg.fit(X_train,y_train)\n",
        "\n",
        "y_pred = reg.predict(X_test)\n",
        "print(\"R2 score\",r2_score(y_test,y_pred))\n",
        "print(reg.coef_)\n",
        "print(reg.intercept_)"
      ],
      "metadata": {
        "colab": {
          "base_uri": "https://localhost:8080/"
        },
        "id": "Jpqsnx5gVcic",
        "outputId": "67096251-db77-4016-f96a-e896bc7d48fe"
      },
      "execution_count": 44,
      "outputs": [
        {
          "output_type": "stream",
          "name": "stdout",
          "text": [
            "R2 score 0.4738018280260913\n",
            "[  46.65050914 -221.3750037   452.12080647  325.54248128  -29.09464178\n",
            "  -96.47517735 -190.90017011  146.32900372  400.80267299   95.09048094]\n",
            "150.86975316713472\n"
          ]
        }
      ]
    },
    {
      "cell_type": "code",
      "source": [
        "class MYSGDR:\n",
        "    def __init__(self, epochs, learning_rate, alpha):\n",
        "        self.epochs = epochs\n",
        "        self.learning_rate = learning_rate\n",
        "        self.alpha = alpha\n",
        "        self.coef_ = None\n",
        "        self.intercept_ = None\n",
        "\n",
        "    def fit(self, X_train, y_train):\n",
        "        n_samples, n_features = X_train.shape\n",
        "        self.coef_ = np.ones(n_features)\n",
        "        self.intercept_ = 0\n",
        "\n",
        "        theta = np.insert(self.coef_, 0, self.intercept_)\n",
        "\n",
        "        X_train = np.insert(X_train, 0, 1, axis=1)\n",
        "\n",
        "        for epoch in range(self.epochs):\n",
        "            for i in range(n_samples):\n",
        "                xi = X_train[i].reshape(1, -1)\n",
        "                yi = y_train[i]\n",
        "                prediction = np.dot(xi, theta)[0]\n",
        "                error = prediction - yi\n",
        "\n",
        "                grad = error * xi + self.alpha * theta\n",
        "                theta = theta - self.learning_rate * grad.flatten()\n",
        "\n",
        "        self.intercept_ = theta[0]\n",
        "        self.coef_ = theta[1:]\n",
        "\n",
        "    def predict(self, X_test):\n",
        "        return np.dot(X_test, self.coef_) + self.intercept_\n"
      ],
      "metadata": {
        "id": "7nHtJMGrWAaD"
      },
      "execution_count": 45,
      "outputs": []
    },
    {
      "cell_type": "code",
      "source": [
        "class MYMBGDR:\n",
        "    def __init__(self, epochs, learning_rate, alpha, batch_size):\n",
        "        self.epochs = epochs\n",
        "        self.learning_rate = learning_rate\n",
        "        self.alpha = alpha\n",
        "        self.batch_size = batch_size\n",
        "        self.coef_ = None\n",
        "        self.intercept_ = None\n",
        "\n",
        "    def fit(self, X_train, y_train):\n",
        "        n_samples, n_features = X_train.shape\n",
        "        self.coef_ = np.ones(n_features)\n",
        "        self.intercept_ = 0\n",
        "\n",
        "        theta = np.insert(self.coef_, 0, self.intercept_)\n",
        "\n",
        "        X_train = np.insert(X_train, 0, 1, axis=1)\n",
        "\n",
        "        for epoch in range(self.epochs):\n",
        "            indices = np.random.permutation(n_samples)\n",
        "            X_shuffled = X_train[indices]\n",
        "            y_shuffled = y_train[indices]\n",
        "\n",
        "            for i in range(0, n_samples, self.batch_size):\n",
        "                X_batch = X_shuffled[i:i + self.batch_size]\n",
        "                y_batch = y_shuffled[i:i + self.batch_size]\n",
        "\n",
        "                prediction = np.dot(X_batch, theta)\n",
        "                error = prediction - y_batch\n",
        "\n",
        "                grad = np.dot(X_batch.T, error) / len(X_batch) + self.alpha * theta\n",
        "                theta = theta - self.learning_rate * grad\n",
        "\n",
        "        self.intercept_ = theta[0]\n",
        "        self.coef_ = theta[1:]\n",
        "\n",
        "    def predict(self, X_test):\n",
        "        return np.dot(X_test, self.coef_) + self.intercept_\n",
        "\n"
      ],
      "metadata": {
        "id": "9uOhHR_5WBb6"
      },
      "execution_count": 46,
      "outputs": []
    },
    {
      "cell_type": "code",
      "source": [
        "\n",
        "# Train and evaluate SGD\n",
        "sgd_model = MYSGDR(epochs=100, learning_rate=0.01, alpha=0.001)\n",
        "sgd_model.fit(X_train, y_train)\n",
        "y_pred_sgd = sgd_model.predict(X_test)\n",
        "print(\"R2 score for Stochastic Gradient Descent:\", r2_score(y_test, y_pred_sgd))\n",
        "\n",
        "# Train and evaluate Mini-Batch GD\n",
        "mbgd_model = MYMBGDR(epochs=100, learning_rate=0.01, alpha=0.001, batch_size=16)\n",
        "mbgd_model.fit(X_train, y_train)\n",
        "y_pred_mbgd = mbgd_model.predict(X_test)\n",
        "print(\"R2 score for Mini-Batch Gradient Descent:\", r2_score(y_test, y_pred_mbgd))\n"
      ],
      "metadata": {
        "colab": {
          "base_uri": "https://localhost:8080/"
        },
        "id": "61WNRp14XWpC",
        "outputId": "92f47bc7-1693-42a1-f88d-7d22338ee7ab"
      },
      "execution_count": 47,
      "outputs": [
        {
          "output_type": "stream",
          "name": "stdout",
          "text": [
            "R2 score for Stochastic Gradient Descent: 0.4268156798268733\n",
            "R2 score for Mini-Batch Gradient Descent: 0.12499860239656002\n"
          ]
        }
      ]
    }
  ]
}