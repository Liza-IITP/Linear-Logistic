{
  "nbformat": 4,
  "nbformat_minor": 0,
  "metadata": {
    "colab": {
      "provenance": [],
      "authorship_tag": "ABX9TyM/r6Jg6fuJxzDj3IK2ZGsT",
      "include_colab_link": true
    },
    "kernelspec": {
      "name": "python3",
      "display_name": "Python 3"
    },
    "language_info": {
      "name": "python"
    }
  },
  "cells": [
    {
      "cell_type": "markdown",
      "metadata": {
        "id": "view-in-github",
        "colab_type": "text"
      },
      "source": [
        "<a href=\"https://colab.research.google.com/github/Liza-IITP/MachineLearning/blob/main/MiniBatchGD.ipynb\" target=\"_parent\"><img src=\"https://colab.research.google.com/assets/colab-badge.svg\" alt=\"Open In Colab\"/></a>"
      ]
    },
    {
      "cell_type": "code",
      "execution_count": 25,
      "metadata": {
        "id": "aHkaP9GJB-v0"
      },
      "outputs": [],
      "source": [
        "import numpy as np\n",
        "import pandas as pd\n",
        "from sklearn.model_selection import train_test_split\n",
        "from sklearn.linear_model import LinearRegression\n",
        "from sklearn.metrics import r2_score"
      ]
    },
    {
      "cell_type": "code",
      "source": [
        "from sklearn.datasets import load_diabetes\n",
        "X,y = load_diabetes(return_X_y=True)\n",
        "X_train , X_test , y_train , y_test = train_test_split(X,y,test_size=0.2,random_state=2)"
      ],
      "metadata": {
        "id": "YM6Sqho-GrZW"
      },
      "execution_count": 26,
      "outputs": []
    },
    {
      "cell_type": "code",
      "source": [
        "lr = LinearRegression()\n",
        "lr.fit(X_train,y_train)\n",
        "print(lr.coef_,lr.intercept_)\n",
        "y_predict = lr.predict(X_test)\n",
        "r2_score(y_test,y_predict)"
      ],
      "metadata": {
        "colab": {
          "base_uri": "https://localhost:8080/"
        },
        "id": "qM9PJbHhHJjg",
        "outputId": "ab37ce25-64aa-4344-c90c-71538bc73ada"
      },
      "execution_count": 27,
      "outputs": [
        {
          "output_type": "stream",
          "name": "stdout",
          "text": [
            "[  -9.15865318 -205.45432163  516.69374454  340.61999905 -895.5520019\n",
            "  561.22067904  153.89310954  126.73139688  861.12700152   52.42112238] 151.88331005254167\n"
          ]
        },
        {
          "output_type": "execute_result",
          "data": {
            "text/plain": [
              "0.4399338661568968"
            ]
          },
          "metadata": {},
          "execution_count": 27
        }
      ]
    },
    {
      "cell_type": "code",
      "source": [
        "import random\n",
        "class MiniBatchGD :\n",
        "  def __init__(self,batch_size,learning_rate = 0.01 , epoch=1000) :\n",
        "    self.batch_size = batch_size\n",
        "    self.coef_= None\n",
        "    self.intercept_ = None\n",
        "    self.lr = learning_rate\n",
        "    self.epoch = epoch\n",
        "  def fit(self,X_train,y_train) :\n",
        "    self.intercept_ = 0\n",
        "    self.coef_ = np.ones(X_train.shape[1])\n",
        "    for i in range(self.epoch) :\n",
        "      for j in range(int(X_train.shape[0]/self.batch_size)) :\n",
        "        idx = random.sample(range(X_train.shape[0]),self.batch_size)\n",
        "        y_hat = np.dot(X_train[idx],self.coef_) + self.intercept_\n",
        "        intercept_der = -2 * np.mean(y_train[idx] - y_hat)\n",
        "        coef_der = -2 * np.dot((y_train[idx] - y_hat),X_train[idx])\n",
        "        self.intercept_ = self.intercept_ - (self.lr * intercept_der)\n",
        "        self.coef_ = self.coef_ - (self.lr * coef_der)\n",
        "    print(self.intercept_,self.coef_)\n",
        "  def predict(self,X_test) :\n",
        "    return np.dot(X_test,self.coef_) + self.intercept_\n",
        "\n"
      ],
      "metadata": {
        "id": "yG0B7RqZHWQP"
      },
      "execution_count": 28,
      "outputs": []
    },
    {
      "cell_type": "code",
      "source": [
        "myLR = MiniBatchGD(batch_size=int(X_train.shape[0]/50),learning_rate=0.01,epoch=1000)\n",
        "myLR.fit(X_train,y_train)\n",
        "y_predict = myLR.predict(X_test)\n",
        "r2_score(y_test,y_predict)"
      ],
      "metadata": {
        "colab": {
          "base_uri": "https://localhost:8080/"
        },
        "id": "wntjSti5JfpS",
        "outputId": "a1072b81-4116-4d19-8892-4299592b2997"
      },
      "execution_count": 29,
      "outputs": [
        {
          "output_type": "stream",
          "name": "stdout",
          "text": [
            "151.87919972040623 [  -9.17385901 -189.30765179  532.77523345  335.46872486 -140.27614187\n",
            "  -49.66829868 -164.78187091   50.58205741  567.99877855   54.47116862]\n"
          ]
        },
        {
          "output_type": "execute_result",
          "data": {
            "text/plain": [
              "0.4426297321392195"
            ]
          },
          "metadata": {},
          "execution_count": 29
        }
      ]
    },
    {
      "cell_type": "code",
      "source": [
        "from sklearn.linear_model import SGDRegressor\n",
        "sgd = SGDRegressor(learning_rate='constant',eta0=0.15)\n",
        "batch_size = 35\n",
        "for i in range(100) :\n",
        "  idx = random.sample(range(X_train.shape[0]),batch_size)\n",
        "  sgd.partial_fit(X_train[idx],y_train[idx])\n",
        "print(sgd.coef_,sgd.intercept_)"
      ],
      "metadata": {
        "colab": {
          "base_uri": "https://localhost:8080/"
        },
        "id": "oNGmCjbjK-cw",
        "outputId": "a12a0dc2-cdc0-47e5-df6b-acbd5915d281"
      },
      "execution_count": 30,
      "outputs": [
        {
          "output_type": "stream",
          "name": "stdout",
          "text": [
            "[  33.96980869 -128.58533555  430.39482382  271.66661698   12.35924286\n",
            "  -50.71308206 -180.80949225  124.60561555  373.61162793  113.34759281] [144.19830982]\n"
          ]
        }
      ]
    },
    {
      "cell_type": "code",
      "source": [
        "r2_score(y_test,sgd.predict(X_test))"
      ],
      "metadata": {
        "colab": {
          "base_uri": "https://localhost:8080/"
        },
        "id": "Ucfw8292LfHW",
        "outputId": "701cc067-0849-4167-ebea-2ceab67c2aa3"
      },
      "execution_count": 31,
      "outputs": [
        {
          "output_type": "execute_result",
          "data": {
            "text/plain": [
              "0.4402259593999299"
            ]
          },
          "metadata": {},
          "execution_count": 31
        }
      ]
    }
  ]
}
