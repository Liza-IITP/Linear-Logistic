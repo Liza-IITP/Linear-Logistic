{
  "nbformat": 4,
  "nbformat_minor": 0,
  "metadata": {
    "colab": {
      "provenance": [],
      "authorship_tag": "ABX9TyMiW7bgecoVyuBWjP94dmIe",
      "include_colab_link": true
    },
    "kernelspec": {
      "name": "python3",
      "display_name": "Python 3"
    },
    "language_info": {
      "name": "python"
    }
  },
  "cells": [
    {
      "cell_type": "markdown",
      "metadata": {
        "id": "view-in-github",
        "colab_type": "text"
      },
      "source": [
        "<a href=\"https://colab.research.google.com/github/Liza-IITP/MachineLearning/blob/main/REGEX.ipynb\" target=\"_parent\"><img src=\"https://colab.research.google.com/assets/colab-badge.svg\" alt=\"Open In Colab\"/></a>"
      ]
    },
    {
      "cell_type": "markdown",
      "source": [
        "# **`BASICS`**"
      ],
      "metadata": {
        "id": "ghLc5hmveH8z"
      }
    },
    {
      "cell_type": "code",
      "execution_count": 122,
      "metadata": {
        "colab": {
          "base_uri": "https://localhost:8080/"
        },
        "id": "sRdkxXinOblO",
        "outputId": "17318f24-02d5-495b-e29d-07d8ee64c793"
      },
      "outputs": [
        {
          "output_type": "stream",
          "name": "stdout",
          "text": [
            "True\n",
            "False\n",
            "True\n"
          ]
        }
      ],
      "source": [
        "print('hello' in 'hello world')\n",
        "print('data' in 'machine-learning')\n",
        "print('data' in 'data-science')"
      ]
    },
    {
      "cell_type": "code",
      "source": [
        "import re\n",
        "print(re.search('hello','hello world'))\n",
        "print(re.search('joy','toyjoy'))\n",
        "print(re.search('\\s','hello hello joy'))"
      ],
      "metadata": {
        "colab": {
          "base_uri": "https://localhost:8080/"
        },
        "id": "p3B9SIMpX9eD",
        "outputId": "c02f2ad9-536f-445f-b1e1-eefb55c2f69d"
      },
      "execution_count": 123,
      "outputs": [
        {
          "output_type": "stream",
          "name": "stdout",
          "text": [
            "<re.Match object; span=(0, 5), match='hello'>\n",
            "<re.Match object; span=(3, 6), match='joy'>\n",
            "<re.Match object; span=(5, 6), match=' '>\n"
          ]
        }
      ]
    },
    {
      "cell_type": "code",
      "source": [
        "s = re.search(\"hello\", \"hello , welcome to python hello again\")\n",
        "print(s.span())\n",
        "print(s.group())\n",
        "print(s.start())\n",
        "print(s.end())"
      ],
      "metadata": {
        "colab": {
          "base_uri": "https://localhost:8080/"
        },
        "id": "I-l3WtR_YonG",
        "outputId": "4640f032-6363-42d2-8830-c3a2b8b8a726"
      },
      "execution_count": 124,
      "outputs": [
        {
          "output_type": "stream",
          "name": "stdout",
          "text": [
            "(0, 5)\n",
            "hello\n",
            "0\n",
            "5\n"
          ]
        }
      ]
    },
    {
      "cell_type": "code",
      "source": [
        "a = \"hello toy hello joy hello coy hello ten soy hello \"\n",
        "b = \"hello\"\n",
        "print(len(re.findall(b,a)))"
      ],
      "metadata": {
        "colab": {
          "base_uri": "https://localhost:8080/"
        },
        "id": "011MpGJuY4XU",
        "outputId": "aa4684d0-f474-4302-cf4e-4086195f418f"
      },
      "execution_count": 125,
      "outputs": [
        {
          "output_type": "stream",
          "name": "stdout",
          "text": [
            "5\n"
          ]
        }
      ]
    },
    {
      "cell_type": "code",
      "source": [
        "for i in re.finditer(b,a) :\n",
        "  print(i.span())"
      ],
      "metadata": {
        "colab": {
          "base_uri": "https://localhost:8080/"
        },
        "id": "oc7wSdxaZiqH",
        "outputId": "c24e6bb4-03bf-4ea1-c79d-15be3ecc2bdd"
      },
      "execution_count": 126,
      "outputs": [
        {
          "output_type": "stream",
          "name": "stdout",
          "text": [
            "(0, 5)\n",
            "(10, 15)\n",
            "(20, 25)\n",
            "(30, 35)\n",
            "(44, 49)\n"
          ]
        }
      ]
    },
    {
      "cell_type": "code",
      "source": [
        "phoneno = 'my contact number : 857-1947-233'\n",
        "pattern = '\\d{3}-\\d{4}-\\d{3}'\n",
        "\n",
        "print(re.search(pattern,phoneno))"
      ],
      "metadata": {
        "colab": {
          "base_uri": "https://localhost:8080/"
        },
        "id": "LZzDGxbfZ53Q",
        "outputId": "7442f4f9-5f61-4340-9c9b-ad8990d00df8"
      },
      "execution_count": 127,
      "outputs": [
        {
          "output_type": "stream",
          "name": "stdout",
          "text": [
            "<re.Match object; span=(20, 32), match='857-1947-233'>\n"
          ]
        }
      ]
    },
    {
      "cell_type": "code",
      "source": [
        "txt1=\"my telephone number is 834-4324-345\"\n",
        "txt2=\"my telephone number is 8344324345\"\n",
        "pattern='\\d{3}-\\d{4}-\\d{3}'\n",
        "print(re.search(pattern,txt1))\n",
        "print(re.search(pattern,txt2))\n",
        "\n",
        "print(re.search(pattern,txt1).group())"
      ],
      "metadata": {
        "colab": {
          "base_uri": "https://localhost:8080/"
        },
        "id": "4iGM3LomayZu",
        "outputId": "b8c84f42-0de8-4bdb-84b6-fe74a5e8af8d"
      },
      "execution_count": 128,
      "outputs": [
        {
          "output_type": "stream",
          "name": "stdout",
          "text": [
            "<re.Match object; span=(23, 35), match='834-4324-345'>\n",
            "None\n",
            "834-4324-345\n"
          ]
        }
      ]
    },
    {
      "cell_type": "code",
      "source": [
        "print(re.findall('at','The rat sat on the mat and attached by a cat'))"
      ],
      "metadata": {
        "colab": {
          "base_uri": "https://localhost:8080/"
        },
        "id": "51EC5s5da0ZF",
        "outputId": "e422d45a-41b2-455e-f4c7-7efffe762ebc"
      },
      "execution_count": 129,
      "outputs": [
        {
          "output_type": "stream",
          "name": "stdout",
          "text": [
            "['at', 'at', 'at', 'at', 'at']\n"
          ]
        }
      ]
    },
    {
      "cell_type": "markdown",
      "source": [
        "# **REGEX**"
      ],
      "metadata": {
        "id": "dmgLJQIgePDW"
      }
    },
    {
      "cell_type": "code",
      "source": [
        "print(re.findall('.at','The rat sat on the mat and attached by a cat'))"
      ],
      "metadata": {
        "colab": {
          "base_uri": "https://localhost:8080/"
        },
        "id": "VmgPAGjfeb7H",
        "outputId": "e74047ab-a631-4e51-c8be-51f9489ccb25"
      },
      "execution_count": 130,
      "outputs": [
        {
          "output_type": "stream",
          "name": "stdout",
          "text": [
            "['rat', 'sat', 'mat', ' at', 'cat']\n"
          ]
        }
      ]
    },
    {
      "cell_type": "code",
      "source": [
        "print(re.findall('\\d','4 is divisible by 2 and not by 3'))"
      ],
      "metadata": {
        "colab": {
          "base_uri": "https://localhost:8080/"
        },
        "id": "KZM0cTxLe2cI",
        "outputId": "24c1745a-6cae-41fd-bdfa-92c59f256f84"
      },
      "execution_count": 131,
      "outputs": [
        {
          "output_type": "stream",
          "name": "stdout",
          "text": [
            "['4', '2', '3']\n"
          ]
        }
      ]
    },
    {
      "cell_type": "code",
      "source": [
        "print(re.findall('^\\d','4 is divisible by 2 and not by 3'))\n",
        "print(re.findall('^\\d','Hi, 4 is divisible by 2 and not by 3'))\n",
        "print(re.findall('^\\d',\"I'm starting with 4 , that's a number isn't it ! 2is also a number . 3is also a number , so why not2,3?\"))\n",
        "print(re.findall('^\\d',\"1-34I'm starting with 4 , that's a number isn't it ! 2is also a number . 3is also a number , so why not2,3?\"))"
      ],
      "metadata": {
        "colab": {
          "base_uri": "https://localhost:8080/"
        },
        "id": "7nPBWZwffJ9M",
        "outputId": "e2426a48-51c0-4e38-e100-626bbdec9f6a"
      },
      "execution_count": 132,
      "outputs": [
        {
          "output_type": "stream",
          "name": "stdout",
          "text": [
            "['4']\n",
            "[]\n",
            "[]\n",
            "['1']\n"
          ]
        }
      ]
    },
    {
      "cell_type": "code",
      "source": [
        "print(re.findall('\\d$','4 is divisible by 2 and not by 3'))\n",
        "print(re.findall('\\d$','4 is divisible by 2 and not by 3 in maths'))\n",
        "print(re.findall('\\d$',\"I'm ending with number0\"))"
      ],
      "metadata": {
        "colab": {
          "base_uri": "https://localhost:8080/"
        },
        "id": "iSSa68KLf6Ge",
        "outputId": "ca3577fd-48f2-4086-86b1-9acea250b94f"
      },
      "execution_count": 133,
      "outputs": [
        {
          "output_type": "stream",
          "name": "stdout",
          "text": [
            "['3']\n",
            "[]\n",
            "['0']\n"
          ]
        }
      ]
    },
    {
      "cell_type": "code",
      "source": [
        "print(re.findall('[A-Z]','Welcome'))\n",
        "print(re.findall('[a-z]','Welcome 1'))\n",
        "print(re.findall('[0-9]','Welcome 1'))\n",
        "print(re.findall('[A-Za-z]','12345Welcome 1'))\n",
        "print(re.findall('[A-Za-z0-9]','Welcome 1'))"
      ],
      "metadata": {
        "colab": {
          "base_uri": "https://localhost:8080/"
        },
        "id": "KorrmbNZgxor",
        "outputId": "3a2d326a-c4e4-4222-d0bd-553336e1d0f9"
      },
      "execution_count": 134,
      "outputs": [
        {
          "output_type": "stream",
          "name": "stdout",
          "text": [
            "['W']\n",
            "['e', 'l', 'c', 'o', 'm', 'e']\n",
            "['1']\n",
            "['W', 'e', 'l', 'c', 'o', 'm', 'e']\n",
            "['W', 'e', 'l', 'c', 'o', 'm', 'e', '1']\n"
          ]
        }
      ]
    },
    {
      "cell_type": "code",
      "source": [
        "\n",
        "txt=\"ryaaryaananis happ@y !,\"\n",
        "print(re.findall('[^a-z]',txt))\n",
        "print(re.findall('[^A-Z]',txt))\n",
        "print(re.findall('[^A-Za-z]',txt))\n",
        "print(re.findall('[^A-Za-z0-9]',txt))\n"
      ],
      "metadata": {
        "colab": {
          "base_uri": "https://localhost:8080/"
        },
        "id": "YpotRs9EkNhr",
        "outputId": "490583d3-b555-48f9-ae4c-7850655713e3"
      },
      "execution_count": 136,
      "outputs": [
        {
          "output_type": "stream",
          "name": "stdout",
          "text": [
            "[' ', '@', ' ', '!', ',']\n",
            "['r', 'y', 'a', 'a', 'r', 'y', 'a', 'a', 'n', 'a', 'n', 'i', 's', ' ', 'h', 'a', 'p', 'p', '@', 'y', ' ', '!', ',']\n",
            "[' ', '@', ' ', '!', ',']\n",
            "[' ', '@', ' ', '!', ',']\n"
          ]
        }
      ]
    },
    {
      "cell_type": "code",
      "source": [
        "import re\n",
        "txt=\"I'm Ashish and 24\"\n",
        "print(''.join(re.findall('\\d',txt))) # print numbers\n",
        "print(''.join(re.findall('\\D',txt))) # exclude numbers"
      ],
      "metadata": {
        "colab": {
          "base_uri": "https://localhost:8080/"
        },
        "id": "RXOkATkOk5N7",
        "outputId": "aac7e98d-b734-4ad0-ad79-15188d350d34"
      },
      "execution_count": 137,
      "outputs": [
        {
          "output_type": "stream",
          "name": "stdout",
          "text": [
            "24\n",
            "I'm Ashish and \n"
          ]
        }
      ]
    },
    {
      "cell_type": "code",
      "source": [
        "txt=\"Hello I am studying from tutorials and it is amazing.Let's see how this works-it-out, wklfd-dfjgk-fjkds\"\n",
        "print(re.findall('[\\w]+-[\\w]+-[\\w]+',txt))"
      ],
      "metadata": {
        "colab": {
          "base_uri": "https://localhost:8080/"
        },
        "id": "fvqkcta7lTWt",
        "outputId": "149a771e-a945-4385-a928-b009fff644c3"
      },
      "execution_count": 138,
      "outputs": [
        {
          "output_type": "stream",
          "name": "stdout",
          "text": [
            "['works-it-out', 'wklfd-dfjgk-fjkds']\n"
          ]
        }
      ]
    },
    {
      "cell_type": "code",
      "source": [
        "for no in [\"64-6534-342\", \"543-5345-645\",\"4563-453-445\",\"53-5453-5345\",\"435-234-6324\"]:\n",
        "\n",
        "    print(str(re.findall('[\\d]+-[\\d]+-[\\d]' , no)[0]).replace('-',''))"
      ],
      "metadata": {
        "colab": {
          "base_uri": "https://localhost:8080/"
        },
        "id": "d89W4EXdkSgQ",
        "outputId": "376fe199-c5d6-4620-9554-07646cd07bf0"
      },
      "execution_count": 139,
      "outputs": [
        {
          "output_type": "stream",
          "name": "stdout",
          "text": [
            "6465343\n",
            "54353456\n",
            "45634534\n",
            "5354535\n",
            "4352346\n"
          ]
        }
      ]
    },
    {
      "cell_type": "code",
      "source": [
        "import re\n",
        "\n",
        "mail='ryaan@yahoo.in'\n",
        "p='[A-Za-z0-9]+@[\\w]+.[\\w]+'\n",
        "\n",
        "print(re.search(p,mail))\n",
        "\n",
        "mail1='ryaan@yahoo.org'\n",
        "mail2='ryaan@yahoo.net'\n",
        "mail3='ryaan@gmail.com'\n",
        "p='[A-Za-z0-2]+@(yahoo).(org|net|in|com)'\n",
        "print(re.search(p,mail1))\n",
        "print(re.search(p,mail2))\n",
        "print(re.search(p,mail3))\n",
        "\n",
        "mail1='ryaan@yahoo.org'\n",
        "mail2='ryaan@gmail.com'\n",
        "p='[A-Za-z0-2]+@(yahoo).(org)'\n",
        "print(re.search(p,mail1))\n",
        "print(re.search(p,mail2))\n",
        "\n",
        "txt='Mail ryaan@yahoo.in to contact ryaan'\n",
        "print(re.findall(p,txt))"
      ],
      "metadata": {
        "colab": {
          "base_uri": "https://localhost:8080/"
        },
        "id": "NuPnBhgfxC8h",
        "outputId": "1b60e22e-4549-4713-d9d3-747d381f0a6a"
      },
      "execution_count": 140,
      "outputs": [
        {
          "output_type": "stream",
          "name": "stdout",
          "text": [
            "<re.Match object; span=(0, 14), match='ryaan@yahoo.in'>\n",
            "<re.Match object; span=(0, 15), match='ryaan@yahoo.org'>\n",
            "<re.Match object; span=(0, 15), match='ryaan@yahoo.net'>\n",
            "None\n",
            "<re.Match object; span=(0, 15), match='ryaan@yahoo.org'>\n",
            "None\n",
            "[]\n"
          ]
        }
      ]
    },
    {
      "cell_type": "code",
      "source": [
        "#Pattern Matching without re\n",
        "strnum = ['1','2','3','4','5','6','7','8','9','0']\n",
        "# To Track Consecutive digits\n",
        "txt = 'The number is 8372493 not 423423 this is rest of code'\n",
        "count = []\n",
        "tempstr =''\n",
        "for i in range(len(txt)) :\n",
        "  if(txt[i] not in strnum or i==len(txt)-1 ):\n",
        "    if(tempstr!=''):\n",
        "      count.append(tempstr)\n",
        "    tempstr=''\n",
        "  else :\n",
        "    tempstr+=txt[i]\n",
        "\n",
        "print(count)\n",
        "\n",
        "# ANOTHER APPROACH\n",
        "txt = 'The number is 8372493 not 423423'\n",
        "c = 0  # Counter to track consecutive digits\n",
        "\n",
        "# Iterate through each character in the string by index\n",
        "for i in range(len(txt)):\n",
        "    # Check if the current character is a digit\n",
        "    if txt[i].isdigit() == True:\n",
        "        # If this is the first digit in a sequence, save the start index\n",
        "        if c == 0:\n",
        "            st = i  # st is the starting index of the current number\n",
        "        c += 1  # Increment the consecutive digit counter\n",
        "    else:\n",
        "        # If we were counting digits and encountered a non-digit, process the number\n",
        "        if c != 0:\n",
        "            end = i  # End index is the current position (non-digit)\n",
        "            print(txt[st:end])  # Extract and print the number\n",
        "            c = 0  # Reset counter for next potential number\n",
        "\n",
        "# After the loop, check if there's an unprocessed number at the end of the string\n",
        "if c != 0:\n",
        "    # Use negative indexing to get the last 'c' characters (the final number)\n",
        "    print(txt[-c:])"
      ],
      "metadata": {
        "colab": {
          "base_uri": "https://localhost:8080/"
        },
        "id": "5RBzrVvRylmC",
        "outputId": "9cd3cc22-d150-4466-ba07-9955a1649a68"
      },
      "execution_count": 141,
      "outputs": [
        {
          "output_type": "stream",
          "name": "stdout",
          "text": [
            "['8372493', '423423']\n",
            "8372493\n",
            "423423\n"
          ]
        }
      ]
    },
    {
      "cell_type": "code",
      "source": [
        "txt=\"Let us study Data Science from yahoo.\"\n",
        "txt=txt.lower()  # Convert the string to lowercase\n",
        "word='data'  # Word to search for in the string\n",
        "\n",
        "for i in range(len(txt)):  # Loop through the string\n",
        "   if(txt[i:i+len(word)]==word):  # Check if the substring matches the word\n",
        "       print(i,i+len(word))  # Print the start and end indices of the match"
      ],
      "metadata": {
        "colab": {
          "base_uri": "https://localhost:8080/"
        },
        "id": "KD6OFq028OKR",
        "outputId": "405e11fa-544e-4652-a12e-723bcea526a4"
      },
      "execution_count": 142,
      "outputs": [
        {
          "output_type": "stream",
          "name": "stdout",
          "text": [
            "13 17\n"
          ]
        }
      ]
    },
    {
      "cell_type": "code",
      "source": [
        "txt = 'AI is having the capability to revolutionize all the industries. The Industry is ready for a big change'\n",
        "word = 'in'\n",
        "\n",
        "for wrd in txt.split(' '):\n",
        "    if (wrd[:2].lower() == word.lower()):\n",
        "        print(wrd)"
      ],
      "metadata": {
        "colab": {
          "base_uri": "https://localhost:8080/"
        },
        "id": "05BF7KFP841j",
        "outputId": "4cd7ee72-4232-4ce5-eb83-d1099dda3f97"
      },
      "execution_count": 143,
      "outputs": [
        {
          "output_type": "stream",
          "name": "stdout",
          "text": [
            "industries.\n",
            "Industry\n"
          ]
        }
      ]
    },
    {
      "cell_type": "code",
      "source": [
        "txt = 'AI is having the capability to revolutionize all the industries. The Industry is ready for a big change'\n",
        "word = 'he'\n",
        "\n",
        "for wrd in txt.split(' '):\n",
        "    if(wrd[-2:].lower() == word.lower()):\n",
        "        print(wrd)"
      ],
      "metadata": {
        "colab": {
          "base_uri": "https://localhost:8080/"
        },
        "id": "_01KRqbE89eF",
        "outputId": "e30f8411-a96a-4375-d18c-9b20884d5e8c"
      },
      "execution_count": 144,
      "outputs": [
        {
          "output_type": "stream",
          "name": "stdout",
          "text": [
            "the\n",
            "the\n",
            "The\n"
          ]
        }
      ]
    },
    {
      "cell_type": "code",
      "source": [
        "txt = 'AI is having the capability to revolutionize all the industries. The Industry is ready for a big change'\n",
        "\n",
        "for i in range(len(txt.split(' '))-1):\n",
        "    print(txt.split(' ')[i], txt.split(' ')[i + 1])"
      ],
      "metadata": {
        "colab": {
          "base_uri": "https://localhost:8080/"
        },
        "id": "UVMcbt259Fr9",
        "outputId": "d60e475e-70d2-4aaf-ea78-1bf48d58514f"
      },
      "execution_count": 145,
      "outputs": [
        {
          "output_type": "stream",
          "name": "stdout",
          "text": [
            "AI is\n",
            "is having\n",
            "having the\n",
            "the capability\n",
            "capability to\n",
            "to revolutionize\n",
            "revolutionize all\n",
            "all the\n",
            "the industries.\n",
            "industries. The\n",
            "The Industry\n",
            "Industry is\n",
            "is ready\n",
            "ready for\n",
            "for a\n",
            "a big\n",
            "big change\n"
          ]
        }
      ]
    },
    {
      "cell_type": "code",
      "source": [
        "# List of email addresses\n",
        "mails = ['ryaan@gmail.com','ryaan@yahoo.org','ryaan@yahoo.com','ryaan@aap.gov.in','esh@hotmail.com','esh@mail.com','ryaan@orkut.com']\n",
        "\n",
        "# Lists to store user id, host name, and domain type\n",
        "user_id = []\n",
        "host_name = []\n",
        "domain_type = []\n",
        "\n",
        "# Loop through each email in the list\n",
        "for mail in mails:\n",
        "    # Extract and append the user id (part before '@')\n",
        "    user_id.append(mail.split('@')[0])\n",
        "\n",
        "    # Extract and append the host name (part between '@' and first '.')\n",
        "    host_name.append(mail.split('@')[1].split('.')[0])\n",
        "\n",
        "    # Extract and append the domain type (part after first '.')\n",
        "    domain_type.append('.'.join(mail.split('@')[1].split('.')[1:]))\n",
        "\n",
        "# Print the results\n",
        "print(user_id)  # List of user ids\n",
        "print(host_name)  # List of host names\n",
        "print(domain_type)  # List of domain types"
      ],
      "metadata": {
        "colab": {
          "base_uri": "https://localhost:8080/"
        },
        "id": "xrwApRVF9KeH",
        "outputId": "8cf72737-febc-487d-c7e2-1887201fa593"
      },
      "execution_count": 146,
      "outputs": [
        {
          "output_type": "stream",
          "name": "stdout",
          "text": [
            "['ryaan', 'ryaan', 'ryaan', 'ryaan', 'esh', 'esh', 'ryaan']\n",
            "['gmail', 'yahoo', 'yahoo', 'aap', 'hotmail', 'mail', 'orkut']\n",
            "['com', 'org', 'com', 'gov.in', 'com', 'com', 'com']\n"
          ]
        }
      ]
    }
  ]
}