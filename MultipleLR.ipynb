{
  "nbformat": 4,
  "nbformat_minor": 0,
  "metadata": {
    "colab": {
      "provenance": [],
      "authorship_tag": "ABX9TyMFT5WBDk8+hx1eUx9qkm+l",
      "include_colab_link": true
    },
    "kernelspec": {
      "name": "python3",
      "display_name": "Python 3"
    },
    "language_info": {
      "name": "python"
    }
  },
  "cells": [
    {
      "cell_type": "markdown",
      "metadata": {
        "id": "view-in-github",
        "colab_type": "text"
      },
      "source": [
        "<a href=\"https://colab.research.google.com/github/Liza-IITP/MachineLearning/blob/main/MultipleLR.ipynb\" target=\"_parent\"><img src=\"https://colab.research.google.com/assets/colab-badge.svg\" alt=\"Open In Colab\"/></a>"
      ]
    },
    {
      "cell_type": "code",
      "execution_count": 9,
      "metadata": {
        "id": "iHvSIrbOOzmp"
      },
      "outputs": [],
      "source": [
        "import numpy as np\n",
        "class MyMR :\n",
        "  def __init__(self) :\n",
        "    self.coeff_array = None\n",
        "    self.intercept = None\n",
        "  def fit(self,X_train , Y_train) :\n",
        "    X_train = np.insert(X_train , 0 , 1 , axis = 1)\n",
        "    betas = np.linalg.inv(np.dot(X_train.T , X_train)).dot(X_train.T).dot(Y_train)\n",
        "    self.coeff_array = betas[1:]\n",
        "    self.intercept = betas[0]\n",
        "  def coefficients(self) :\n",
        "    return self.coeff_array\n",
        "  def intercepted(self) :\n",
        "    return self.intercept\n",
        "  def predict(self,X_test) :\n",
        "    return self.intercept+np.dot(X_test , self.coeff_array)\n",
        "  def error(self,y_test,y_pred) :\n",
        "    mean_error = np.mean(abs(y_test-y_pred))\n",
        "    square_error = np.mean((y_test-y_pred)**2)\n",
        "    rmse = np.sqrt(square_error)\n",
        "    return mean_error,square_error,rmse\n",
        "  def r2(self,y_test,y_pred) :\n",
        "    mean_y = np.mean(y_test)\n",
        "    ss_total = np.sum((y_test-mean_y)**2)\n",
        "    ss_residual = np.sum((y_test-y_pred)**2)\n",
        "    r2 = 1-(ss_residual/ss_total)\n",
        "    return r2\n",
        "  def adjustedr2(self, y_test, y_pred, p):\n",
        "    r2_val = self.r2(y_test, y_pred)\n",
        "    n = len(y_test)\n",
        "    adjusted_r2 = 1 - (1 - r2_val) * (n - 1) / (n - p - 1)\n",
        "    return adjusted_r2\n"
      ]
    },
    {
      "cell_type": "code",
      "source": [
        "from sklearn.datasets import load_diabetes\n",
        "X,y = load_diabetes(return_X_y=True)\n",
        "X"
      ],
      "metadata": {
        "colab": {
          "base_uri": "https://localhost:8080/"
        },
        "id": "5QsA9AggXbnA",
        "outputId": "85fcc5f3-d058-48a9-b322-ab20ba7188af"
      },
      "execution_count": 10,
      "outputs": [
        {
          "output_type": "execute_result",
          "data": {
            "text/plain": [
              "array([[ 0.03807591,  0.05068012,  0.06169621, ..., -0.00259226,\n",
              "         0.01990749, -0.01764613],\n",
              "       [-0.00188202, -0.04464164, -0.05147406, ..., -0.03949338,\n",
              "        -0.06833155, -0.09220405],\n",
              "       [ 0.08529891,  0.05068012,  0.04445121, ..., -0.00259226,\n",
              "         0.00286131, -0.02593034],\n",
              "       ...,\n",
              "       [ 0.04170844,  0.05068012, -0.01590626, ..., -0.01107952,\n",
              "        -0.04688253,  0.01549073],\n",
              "       [-0.04547248, -0.04464164,  0.03906215, ...,  0.02655962,\n",
              "         0.04452873, -0.02593034],\n",
              "       [-0.04547248, -0.04464164, -0.0730303 , ..., -0.03949338,\n",
              "        -0.00422151,  0.00306441]])"
            ]
          },
          "metadata": {},
          "execution_count": 10
        }
      ]
    },
    {
      "cell_type": "code",
      "source": [
        "from sklearn.model_selection import train_test_split\n",
        "X_train,X_test,y_train,y_test = train_test_split(X,y,test_size=0.2,random_state=2)\n",
        "\n",
        "lr = MyMR()\n",
        "lr.fit(X_train,y_train)\n",
        "y_pred = lr.predict(X_test)\n",
        "print(\"Coefficients : \", lr.coefficients())\n",
        "print(\"Intercepts : \", lr.intercepted())\n",
        "mean_error,square_error,rmse = lr.error(y_test,y_pred)\n",
        "r2 = lr.r2(y_test,y_pred)\n",
        "p = X_train.shape[1]\n",
        "adjustedr2 = lr.adjustedr2(y_test,y_pred,p)\n",
        "print(mean_error,square_error,rmse,r2,adjustedr2)"
      ],
      "metadata": {
        "colab": {
          "base_uri": "https://localhost:8080/"
        },
        "id": "h-fmVyvZchRV",
        "outputId": "19124d52-2467-4429-b51d-7d4af53819f0"
      },
      "execution_count": 13,
      "outputs": [
        {
          "output_type": "stream",
          "name": "stdout",
          "text": [
            "Coefficients :  [  -9.15865318 -205.45432163  516.69374454  340.61999905 -895.5520019\n",
            "  561.22067904  153.89310954  126.73139688  861.12700152   52.42112238]\n",
            "Intercepts :  151.88331005254165\n",
            "45.21303419046907 3094.4566715660653 55.62784079546918 0.43993386615689634 0.36813051566419075\n"
          ]
        }
      ]
    }
  ]
}